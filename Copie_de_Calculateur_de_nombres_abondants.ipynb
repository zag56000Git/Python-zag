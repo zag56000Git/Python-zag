{
  "nbformat": 4,
  "nbformat_minor": 0,
  "metadata": {
    "colab": {
      "provenance": [],
      "authorship_tag": "ABX9TyP/NZjLx4nQnEly+w9OnpiH",
      "include_colab_link": true
    },
    "kernelspec": {
      "name": "python3",
      "display_name": "Python 3"
    },
    "language_info": {
      "name": "python"
    }
  },
  "cells": [
    {
      "cell_type": "markdown",
      "metadata": {
        "id": "view-in-github",
        "colab_type": "text"
      },
      "source": [
        "<a href=\"https://colab.research.google.com/github/zag56000Git/Python-zag/blob/main/Copie_de_Calculateur_de_nombres_abondants.ipynb\" target=\"_parent\"><img src=\"https://colab.research.google.com/assets/colab-badge.svg\" alt=\"Open In Colab\"/></a>"
      ]
    },
    {
      "cell_type": "code",
      "execution_count": null,
      "metadata": {
        "colab": {
          "base_uri": "https://localhost:8080/"
        },
        "id": "iAPrIiXCwzou",
        "outputId": "68fb63f9-c0a5-48ce-c7d7-979cbcd4c7b6"
      },
      "outputs": [
        {
          "output_type": "stream",
          "name": "stdout",
          "text": [
            "Calculateur de nombres abondants by Guims\n",
            "_________________________________\n",
            "\n",
            "Un nombre est abondant lorsque la somme de ses diviseurs est supérieure à 2 fois ce nombre\n",
            "quel nombre tester?\n",
            "\n",
            "12\n",
            "\n",
            ">>> recherche si 12 est un nombre abondant <<<\n",
            "\n",
            "12 a pour diviseur 1\n",
            "12 a pour diviseur 2\n",
            "12 a pour diviseur 3\n",
            "12 a pour diviseur 4\n",
            "12 a pour diviseur 6\n",
            "12 a pour diviseur 12\n",
            "La somme des diviseurs est 28\n",
            "_____________________________________\n",
            "\n",
            "==> 12 est un nombre entier abondant\n",
            "_____________________________________\n",
            "\n",
            "enjoy !\n"
          ]
        }
      ],
      "source": [
        "### initialisation des variables du programme\n",
        "n=0\n",
        "somme_diviseurs=0\n",
        "i=0\n",
        "###\n",
        "\n",
        "### demander à l'utilisateur le nombre à tester et le mémoriser dans la variable n\n",
        "print(\"Calculateur de nombres abondants by Guims\")\n",
        "print(\"_________________________________\")\n",
        "print()\n",
        "print(\"Un nombre est abondant lorsque la somme de ses diviseurs est supérieure à 2 fois ce nombre\")\n",
        "print(\"quel nombre tester?\")\n",
        "print()\n",
        "n = int(input())\n",
        "print()\n",
        "print(\">>> recherche si\", n, \"est un nombre abondant <<<\")\n",
        "print()\n",
        "####\n",
        "\n",
        "### faire la somme des diviseurs du nombre n et mémoriser le resultat de la somme des diviseurs dans la variable somme_diviseurs\n",
        "for i in range(1, n+1):\n",
        "  if n % i == 0:     # Le symbole % en Python est appelé l'opérateur modulo. Il renvoie le reste de la division de l'opérande de gauche par l'opérande de droite. Il est utilisé pour obtenir le reste d'un problème de division.\n",
        "    somme_diviseurs = somme_diviseurs + i\n",
        "    print(n, \"a pour diviseur\", i)\n",
        "print(\"La somme des diviseurs est\", somme_diviseurs)\n",
        "###\n",
        "\n",
        "### tester si la somme des diviseurs du nombre n est superieur à deux fois le nombre n\n",
        "     ### si oui afficher que le contenu de la variable n,  est  un nombre entier abondant\n",
        "     ### si non afficher que le contenu de la variable n,  n'est pas  un nombre entier abondant\n",
        "print(\"_____________________________________\")\n",
        "print()  \n",
        "if somme_diviseurs > n*2:\n",
        "  print(\"==>\", n, \"est un nombre entier abondant\")\n",
        "else:\n",
        "  print(\"==>\", n, \"n'est pas un nombre entier abondant\")\n",
        "print(\"_____________________________________\")\n",
        "print()\n",
        "print(\"enjoy !\")  \n",
        "###"
      ]
    },
    {
      "cell_type": "code",
      "source": [],
      "metadata": {
        "id": "K53vOH4H8Wur"
      },
      "execution_count": null,
      "outputs": []
    },
    {
      "cell_type": "code",
      "source": [
        "p"
      ],
      "metadata": {
        "id": "2zMP7qx9xSKG"
      },
      "execution_count": null,
      "outputs": []
    }
  ]
}